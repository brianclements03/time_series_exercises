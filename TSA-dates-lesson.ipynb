{
 "cells": [
  {
   "cell_type": "code",
   "execution_count": null,
   "metadata": {},
   "outputs": [],
   "source": [
    "import pandas as pd\n",
    "import numpy as np\n",
    "import datetime\n",
    "\n",
    "import matplotlib.pyplot as plt\n",
    "import seaborn as sns\n",
    "sns.set()\n",
    "\n",
    "# set figure size\n",
    "plt.rcParams[\"figure.figsize\"] = (8,6)\n",
    "\n",
    "# specify decimal places to display\n",
    "pd.set_option('display.float_format', lambda x: '%.2f' % x)"
   ]
  },
  {
   "cell_type": "markdown",
   "metadata": {},
   "source": [
    "### Datetime objects in Python, Numpy and Pandas"
   ]
  },
  {
   "cell_type": "markdown",
   "metadata": {},
   "source": [
    "##### Native Python dates and times"
   ]
  },
  {
   "cell_type": "code",
   "execution_count": null,
   "metadata": {
    "scrolled": true
   },
   "outputs": [],
   "source": [
    "# Python: datetime module\n",
    "\n",
    "from datetime import datetime\n",
    "d = datetime(year=2021, month=6, day=30)\n",
    "d"
   ]
  },
  {
   "cell_type": "code",
   "execution_count": null,
   "metadata": {},
   "outputs": [],
   "source": [
    "# Once you have a datetime object, you can do things like printing the day of the week:\n",
    "\n",
    "d.strftime('%B')"
   ]
  },
  {
   "cell_type": "markdown",
   "metadata": {},
   "source": [
    "#### Numpy native time series dtype"
   ]
  },
  {
   "cell_type": "code",
   "execution_count": null,
   "metadata": {},
   "outputs": [],
   "source": [
    "date = np.array('2015-07-14', dtype=np.datetime64)\n",
    "date"
   ]
  },
  {
   "cell_type": "code",
   "execution_count": null,
   "metadata": {},
   "outputs": [],
   "source": [
    "# Now can quickly do vectorized operations on it!\n",
    "\n",
    "date + np.arange(1,5)"
   ]
  },
  {
   "cell_type": "code",
   "execution_count": null,
   "metadata": {},
   "outputs": [],
   "source": [
    "# https://numpy.org/doc/stable/reference/arrays.datetime.html\n",
    "# np.datetime64('2015-07-04 12:59:59')"
   ]
  },
  {
   "cell_type": "markdown",
   "metadata": {},
   "source": [
    "##### Pandas time series data type:\n",
    "\n",
    "- Timestamp\n",
    "- 'DatetimeIndex' - Datetime object as Index"
   ]
  },
  {
   "cell_type": "code",
   "execution_count": null,
   "metadata": {
    "scrolled": true
   },
   "outputs": [],
   "source": [
    "t = pd.Timestamp('2021-06-30, 07:50:15')\n",
    "t"
   ]
  },
  {
   "cell_type": "code",
   "execution_count": null,
   "metadata": {},
   "outputs": [],
   "source": [
    "# Can pandas read these dates?\n",
    "\n",
    "# dates = pd.to_datetime([datetime(2015, 7, 3), '4th of July, 2015',\n",
    "#                        '2015-Jul-6', '07-07-2015', '20150708'])\n",
    "# dates"
   ]
  },
  {
   "cell_type": "code",
   "execution_count": null,
   "metadata": {},
   "outputs": [],
   "source": [
    "# We can use various attributes of datetime object to figure out day, month, year, weekday etc\n",
    "t.quarter"
   ]
  },
  {
   "cell_type": "code",
   "execution_count": null,
   "metadata": {},
   "outputs": [],
   "source": [
    "# weekday?\n",
    "\n",
    "t.weekday()\n",
    "t.day_name()"
   ]
  },
  {
   "cell_type": "markdown",
   "metadata": {},
   "source": [
    "Timestamp documentation: https://pandas.pydata.org/pandas-docs/stable/reference/api/pandas.Timestamp.html"
   ]
  },
  {
   "cell_type": "markdown",
   "metadata": {},
   "source": [
    "## Demo: Working with Timeseries data in pandas"
   ]
  },
  {
   "cell_type": "code",
   "execution_count": null,
   "metadata": {},
   "outputs": [],
   "source": [
    "# We will use Ethererum price data from 2017-2020 to demo Pandas capability for time-series data\n",
    "\n",
    "sheet_url = 'https://docs.google.com/spreadsheets/d/1kTrAFSrr-xP3REs0Lly0TdV4ekrHahBXLg9r5qKxmV8/edit#gid=0'\n",
    "csv_export_url = sheet_url.replace('/edit#gid=', '/export?format=csv&gid=')\n",
    "\n",
    "df = pd.read_csv(csv_export_url)\n",
    "df.head(10)"
   ]
  },
  {
   "cell_type": "code",
   "execution_count": null,
   "metadata": {
    "scrolled": true
   },
   "outputs": [],
   "source": [
    "df.info()"
   ]
  },
  {
   "cell_type": "code",
   "execution_count": null,
   "metadata": {},
   "outputs": [],
   "source": [
    "# check for nulls\n",
    "df.isnull().sum()"
   ]
  },
  {
   "cell_type": "code",
   "execution_count": null,
   "metadata": {},
   "outputs": [],
   "source": [
    "# plt.plot(df.Date, df.Close )"
   ]
  },
  {
   "cell_type": "code",
   "execution_count": null,
   "metadata": {
    "scrolled": false
   },
   "outputs": [],
   "source": [
    "# use pandas .plot()\n",
    "\n",
    "df.Close.plot()"
   ]
  },
  {
   "cell_type": "markdown",
   "metadata": {},
   "source": [
    "### Time series analysis: How to make pandas time-aware and leverage inbuild functionality:\n",
    "\n",
    "1. Convert 'date/time' column to datetime object in Pandas (pd.to_datetime())\n",
    "2. Set the datetime column as Index\n",
    "3. Sort the datetime index"
   ]
  },
  {
   "cell_type": "code",
   "execution_count": null,
   "metadata": {},
   "outputs": [],
   "source": [
    "# pandas to_datetime method can convert strings/object to datetime object (aka Timestamp object).\n",
    "# Most of time pandas is smart enough to parse the date without any help.\n",
    "\n",
    "pd.to_datetime('Jan 1 1970')"
   ]
  },
  {
   "cell_type": "code",
   "execution_count": null,
   "metadata": {},
   "outputs": [],
   "source": [
    "# Can pandas read these dates?\n",
    "\n",
    "# dates = pd.to_datetime([datetime(2015, 7, 3), '4th of July, 2015',\n",
    "#                        '2015-Jul-6', '07-07-2015', '20150708'])\n",
    "# dates"
   ]
  },
  {
   "cell_type": "code",
   "execution_count": null,
   "metadata": {},
   "outputs": [],
   "source": [
    "# Can pandas read this datetime string?\n",
    "# pd.to_datetime('2020-03-13 08-PM')"
   ]
  },
  {
   "cell_type": "code",
   "execution_count": null,
   "metadata": {},
   "outputs": [],
   "source": [
    "# Sometimes we have to specify the format of the datatime string to help pandas parse the date/time)\n",
    "\n",
    "pd.to_datetime('2020-03-13 08-PM', format='%Y-%m-%d %I-%p')"
   ]
  },
  {
   "cell_type": "markdown",
   "metadata": {},
   "source": [
    "Documentation on strftime() Format Codes:  \n",
    "https://docs.python.org/3/library/datetime.html#strftime-and-strptime-behavior"
   ]
  },
  {
   "cell_type": "code",
   "execution_count": null,
   "metadata": {},
   "outputs": [],
   "source": [
    "df.head()"
   ]
  },
  {
   "cell_type": "code",
   "execution_count": null,
   "metadata": {},
   "outputs": [],
   "source": [
    "# Step 1: Lets convert the 'Date' column in our df to pandas datetime object using pd.to_datetime()\n",
    "\n",
    "df.Date = pd.to_datetime(df.Date, format = '%Y-%m-%d %I-%p')"
   ]
  },
  {
   "cell_type": "code",
   "execution_count": null,
   "metadata": {},
   "outputs": [],
   "source": [
    "# confirm if the 'Date' column is indeed a datetime object now\n",
    "\n",
    "df.Date"
   ]
  },
  {
   "cell_type": "code",
   "execution_count": null,
   "metadata": {},
   "outputs": [],
   "source": [
    "# Step 2 and 3 combined: Set 'Date' column as Index and sort the index:\n",
    "\n",
    "df = df.set_index('Date').sort_index()"
   ]
  },
  {
   "cell_type": "code",
   "execution_count": null,
   "metadata": {},
   "outputs": [],
   "source": [
    "df.head(5)"
   ]
  },
  {
   "cell_type": "code",
   "execution_count": null,
   "metadata": {},
   "outputs": [],
   "source": [
    "# What is the Index type now?\n",
    "\n",
    "type(df.index)"
   ]
  },
  {
   "cell_type": "code",
   "execution_count": null,
   "metadata": {},
   "outputs": [],
   "source": [
    "# lets plot the closing price again and how it compares to previous plot\n",
    "\n",
    "df.Close.plot()"
   ]
  },
  {
   "cell_type": "markdown",
   "metadata": {},
   "source": [
    "#### Pandas *datetimeIndex* attributes\n",
    "\n",
    "https://pandas.pydata.org/docs/reference/api/pandas.DatetimeIndex.html"
   ]
  },
  {
   "cell_type": "code",
   "execution_count": null,
   "metadata": {},
   "outputs": [],
   "source": [
    "df.head()"
   ]
  },
  {
   "cell_type": "code",
   "execution_count": null,
   "metadata": {},
   "outputs": [],
   "source": [
    "# add a new columns called 'day' which is the 'weekday'\n",
    "\n",
    "df['day'] = df.index.day_name()"
   ]
  },
  {
   "cell_type": "code",
   "execution_count": null,
   "metadata": {},
   "outputs": [],
   "source": [
    "df.head()"
   ]
  },
  {
   "cell_type": "code",
   "execution_count": null,
   "metadata": {},
   "outputs": [],
   "source": [
    "# Can I use groupby to see mean trading volume by day?"
   ]
  },
  {
   "cell_type": "markdown",
   "metadata": {},
   "source": [
    "### How to choose subset of a dataframe?"
   ]
  },
  {
   "cell_type": "code",
   "execution_count": null,
   "metadata": {},
   "outputs": [],
   "source": [
    "df.head()"
   ]
  },
  {
   "cell_type": "code",
   "execution_count": null,
   "metadata": {},
   "outputs": [],
   "source": [
    "df.loc['2017-07-01 11:00:00']"
   ]
  },
  {
   "cell_type": "code",
   "execution_count": null,
   "metadata": {},
   "outputs": [],
   "source": [
    "# Turn the argument into something pandas interprets as a range\n",
    "df['2017': '2018']"
   ]
  },
  {
   "cell_type": "code",
   "execution_count": null,
   "metadata": {},
   "outputs": [],
   "source": [
    "# choose rows for '2017-07-01' (show only first 10 values)\n",
    "\n",
    "df['2017-07-01'][:10]"
   ]
  },
  {
   "cell_type": "code",
   "execution_count": null,
   "metadata": {},
   "outputs": [],
   "source": [
    "# we can also use date range like this\n",
    "\n",
    "df['2018-02-01':'2018-02-02'].head(10)"
   ]
  },
  {
   "cell_type": "markdown",
   "metadata": {},
   "source": [
    "### Changing the Period\n",
    "\n",
    "- Upsampling - increasing frequency\n",
    "    - This will result in empty observations which you may choose to fill with .ffill(),  .bfill(), or some other method.\n",
    "\n",
    "- Downsampling - reducing frequency"
   ]
  },
  {
   "cell_type": "code",
   "execution_count": null,
   "metadata": {},
   "outputs": [],
   "source": [
    "df.head()"
   ]
  },
  {
   "cell_type": "code",
   "execution_count": null,
   "metadata": {},
   "outputs": [],
   "source": [
    "# Upsample using asfreq() method\n",
    "\n",
    "# How can we take care of new NaNs introduced in our data by asfreq method?\n",
    "\n",
    "df.asfreq('45Min', method = 'ffill')"
   ]
  },
  {
   "cell_type": "markdown",
   "metadata": {},
   "source": [
    "#### What did we do our dataframe (size?)\n"
   ]
  },
  {
   "cell_type": "markdown",
   "metadata": {},
   "source": [
    "\n",
    "#### Code Description   \t\n",
    "D\tCalendar day\t       \n",
    "W\tWeekly\t\t  \n",
    "M\tMonth end\t          \n",
    "Q\tQuarter end            \n",
    "A\tYear end\t         \n",
    "H\tHours\t              \n",
    "T\tMinutes\t\t\n",
    "S\tSeconds\t\t\n",
    "L\tMilliseonds\t\t\n",
    "U\tMicroseconds\t\t\n",
    "N\tnanoseconds\t\t\n",
    "   \n"
   ]
  },
  {
   "cell_type": "code",
   "execution_count": null,
   "metadata": {},
   "outputs": [],
   "source": [
    "#  how can we backfill the data:\n",
    "\n",
    "df.asfreq('45Min', method = 'bfill')"
   ]
  },
  {
   "cell_type": "code",
   "execution_count": null,
   "metadata": {},
   "outputs": [],
   "source": [
    "#Upsample, What if I don't want to use bfill or ffill\n",
    "\n",
    "df.asfreq('45Min')"
   ]
  },
  {
   "cell_type": "code",
   "execution_count": null,
   "metadata": {},
   "outputs": [],
   "source": [
    "# You can also do use fillna to fill NaNs with certain chosen value:\n",
    "\n",
    "df.asfreq('45min').fillna(0)"
   ]
  },
  {
   "cell_type": "markdown",
   "metadata": {},
   "source": [
    "When to use 'ffill' or 'bfill' or None?\n",
    "\n",
    "What is another option to fill NaNs, rather than 'ffill', 'bfill' or None?\n"
   ]
  },
  {
   "cell_type": "markdown",
   "metadata": {},
   "source": [
    "#### How can we go from more frequent to less frequent (Downsample)"
   ]
  },
  {
   "cell_type": "code",
   "execution_count": null,
   "metadata": {
    "scrolled": false
   },
   "outputs": [],
   "source": [
    "# We can use .asfreq method. Here we go from data every hour to every 3 hours\n",
    "\n",
    "#downsample\n",
    "\n",
    "# show only first 10 values:\n",
    "df.asfreq('3H')[:10]"
   ]
  },
  {
   "cell_type": "code",
   "execution_count": null,
   "metadata": {},
   "outputs": [],
   "source": [
    "# selecting data based on daily frequency:\n",
    "\n",
    "df.asfreq('D')[:10]"
   ]
  },
  {
   "cell_type": "markdown",
   "metadata": {},
   "source": [
    "#### What does the code above do to your dataframe content and size?"
   ]
  },
  {
   "cell_type": "markdown",
   "metadata": {},
   "source": [
    "### Resampling \n",
    "\n",
    "- Fundamentally data aggregation (similar to groupby but for dates)\n",
    "    - as opposed to afreq which is more of a 'data selection'\n",
    "- Only works on dataframes with a datetime index\n"
   ]
  },
  {
   "cell_type": "code",
   "execution_count": null,
   "metadata": {},
   "outputs": [],
   "source": [
    "df.head()"
   ]
  },
  {
   "cell_type": "code",
   "execution_count": null,
   "metadata": {
    "scrolled": false
   },
   "outputs": [],
   "source": [
    "# resample the whole dataframe every hour using mean as an aggregator\n",
    "\n",
    "df.resample('D').mean()"
   ]
  },
  {
   "cell_type": "code",
   "execution_count": null,
   "metadata": {},
   "outputs": [],
   "source": [
    "df.head()"
   ]
  },
  {
   "cell_type": "code",
   "execution_count": null,
   "metadata": {},
   "outputs": [],
   "source": [
    "# resample monthly and use mean for aggregation\n",
    "\n",
    "df.resample('M').mean().head()"
   ]
  },
  {
   "cell_type": "code",
   "execution_count": null,
   "metadata": {},
   "outputs": [],
   "source": [
    "# resample yearly\n",
    "df.resample('Y').mean().head()"
   ]
  },
  {
   "cell_type": "code",
   "execution_count": null,
   "metadata": {},
   "outputs": [],
   "source": [
    "# Plot raw data with monthly resampled data\n",
    "\n",
    "df.Close.plot(label = 'raw data')\n",
    "df.resample('M').mean().Close.plot(label = 'Monthly Resampled')\n",
    "plt.legend()"
   ]
  },
  {
   "cell_type": "markdown",
   "metadata": {},
   "source": [
    "### Rolling Averages/Windows\n",
    "Why use rolling average\n",
    "- Rolling average aka. moving averages, are generally used to smooth out short-term fluctuations in time series data and highlight long-term trends"
   ]
  },
  {
   "cell_type": "code",
   "execution_count": null,
   "metadata": {
    "scrolled": true
   },
   "outputs": [],
   "source": [
    "df.head()"
   ]
  },
  {
   "cell_type": "code",
   "execution_count": null,
   "metadata": {},
   "outputs": [],
   "source": [
    "# What is the rolling average of 4 hours?\n",
    "\n",
    "df.rolling(4).mean()"
   ]
  },
  {
   "cell_type": "markdown",
   "metadata": {},
   "source": [
    "What if I want to generate a rolling window function of weekly data from hourly data?"
   ]
  },
  {
   "cell_type": "code",
   "execution_count": null,
   "metadata": {},
   "outputs": [],
   "source": [
    "# Resampling and rolling average together\n",
    "\n",
    "df.resample('W').mean().Close.rolling(4).mean()"
   ]
  },
  {
   "cell_type": "code",
   "execution_count": null,
   "metadata": {},
   "outputs": [],
   "source": [
    "# Resampling and rolling average together (26 weeks rolling average)\n",
    "\n",
    "df.resample('W').mean().Close.rolling(26).mean()"
   ]
  },
  {
   "cell_type": "code",
   "execution_count": null,
   "metadata": {},
   "outputs": [],
   "source": [
    "# %matplotlib notebook\n",
    "\n",
    "\n",
    "df.Close.plot(label = 'raw data')\n",
    "df.resample('W').mean().Close.rolling(2).mean().plot(label = '2W rolling')\n",
    "df.resample('W').mean().Close.rolling(8).mean().plot(label = '8W rolling')\n",
    "df.resample('W').mean().Close.rolling(26).mean().plot(label = '26W rolling')\n",
    "plt.legend()"
   ]
  },
  {
   "cell_type": "markdown",
   "metadata": {},
   "source": [
    "#### What other rolling averages can we use?\n"
   ]
  },
  {
   "cell_type": "markdown",
   "metadata": {},
   "source": [
    "### Lagging and Lead\n",
    "\n",
    "- Shift: move the data backwards and forwards by a given amount\n",
    "- diff: find the difference with the previous observation (or a specified further back observation)\n",
    "- Can be used to computing differences over time"
   ]
  },
  {
   "cell_type": "code",
   "execution_count": null,
   "metadata": {
    "scrolled": false
   },
   "outputs": [],
   "source": [
    "df_daily = df.resample('D').mean()\n",
    "df_daily.head(10)"
   ]
  },
  {
   "cell_type": "code",
   "execution_count": null,
   "metadata": {},
   "outputs": [],
   "source": [
    "# Use 'shift' to move the timeseries into the future\n",
    "\n",
    "df_daily['shift(1)'] = df_daily.Close.shift(1)\n",
    "df_daily.head(10)"
   ]
  },
  {
   "cell_type": "code",
   "execution_count": null,
   "metadata": {},
   "outputs": [],
   "source": [
    "# create a new column 'diff(1)'\n",
    "df_daily['diff(1)'] = df_daily.Close.diff(1)\n",
    "df_daily.head(10)"
   ]
  },
  {
   "cell_type": "code",
   "execution_count": null,
   "metadata": {},
   "outputs": [],
   "source": [
    "plt.plot(df.Close)"
   ]
  },
  {
   "cell_type": "code",
   "execution_count": null,
   "metadata": {},
   "outputs": [],
   "source": [
    "# %matplotlib inline\n",
    "# Use for shift/diff to calculate 1 year rate of return\n",
    "\n",
    "((df_daily.Close.shift(-365)/df_daily.Close -1) *100).plot()\n",
    "plt.ylabel('% Return on Investment')\n",
    "plt.title('1-Year Rate of return on ETH')\n",
    "plt.xlim(pd.Timestamp('2017-07'), pd.Timestamp('2019-06'))"
   ]
  },
  {
   "cell_type": "markdown",
   "metadata": {},
   "source": [
    "### Time Zone"
   ]
  },
  {
   "cell_type": "code",
   "execution_count": null,
   "metadata": {
    "scrolled": false
   },
   "outputs": [],
   "source": [
    "# datetime with no timezone specified (sometimes called timezone naive datetime object)\n",
    "\n",
    "t = pd.Timestamp('2020-04-14 10:20:20')\n",
    "t"
   ]
  },
  {
   "cell_type": "code",
   "execution_count": null,
   "metadata": {},
   "outputs": [],
   "source": [
    "#create a datetime object with specify timezone\n",
    "\n",
    "# t1 = pd.Timestamp('2020-04-14, 07:50', tz = 'US/Central')\n",
    "# t1"
   ]
  },
  {
   "cell_type": "code",
   "execution_count": null,
   "metadata": {},
   "outputs": [],
   "source": [
    "# localize a naive timezone\n",
    "t_localized = t.tz_localize('US/Central')\n",
    "t_localized"
   ]
  },
  {
   "cell_type": "code",
   "execution_count": null,
   "metadata": {},
   "outputs": [],
   "source": [
    "# convert to a different timezone\n",
    "\n",
    "t_localized.tz_convert(tz = 'Asia/tokyo')"
   ]
  },
  {
   "cell_type": "code",
   "execution_count": null,
   "metadata": {},
   "outputs": [],
   "source": [
    "# Can I convert a naive timestamp to a particular timezone?\n"
   ]
  },
  {
   "cell_type": "markdown",
   "metadata": {},
   "source": [
    "### Timedelta"
   ]
  },
  {
   "cell_type": "code",
   "execution_count": null,
   "metadata": {},
   "outputs": [],
   "source": [
    "# What is date and time right now? Take any datetime object and use .now() method\n",
    "\n",
    "pd.Timestamp.now()"
   ]
  },
  {
   "cell_type": "code",
   "execution_count": null,
   "metadata": {},
   "outputs": [],
   "source": [
    "# time delta between now (today's date) and t\n",
    "\n",
    "(pd.Timestamp.now() - t)"
   ]
  },
  {
   "cell_type": "code",
   "execution_count": null,
   "metadata": {},
   "outputs": [],
   "source": [
    "# Can we find time delta between t and t1?\n",
    "\n",
    "t, t_localized"
   ]
  },
  {
   "cell_type": "code",
   "execution_count": null,
   "metadata": {},
   "outputs": [],
   "source": [
    "# To convert the above Timedelta object to a number:\n",
    "\n",
    "(pd.Timestamp.now() - t) // pd.Timedelta('1d')"
   ]
  },
  {
   "cell_type": "markdown",
   "metadata": {},
   "source": [
    "### Bonus"
   ]
  },
  {
   "cell_type": "code",
   "execution_count": null,
   "metadata": {},
   "outputs": [],
   "source": [
    "# Bonus: How to remove timezone info from a datetime object\n",
    "\n",
    "t1 = t1.tz_localize(None)\n",
    "t1"
   ]
  },
  {
   "cell_type": "code",
   "execution_count": null,
   "metadata": {},
   "outputs": [],
   "source": [
    "# Bonus: What is going on here?\n",
    "\n",
    "pd.Timestamp('2021-03-14 02:00', tz = 'US/Eastern')"
   ]
  },
  {
   "cell_type": "code",
   "execution_count": null,
   "metadata": {},
   "outputs": [],
   "source": []
  }
 ],
 "metadata": {
  "kernelspec": {
   "display_name": "Python 3",
   "language": "python",
   "name": "python3"
  },
  "language_info": {
   "codemirror_mode": {
    "name": "ipython",
    "version": 3
   },
   "file_extension": ".py",
   "mimetype": "text/x-python",
   "name": "python",
   "nbconvert_exporter": "python",
   "pygments_lexer": "ipython3",
   "version": "3.8.5"
  }
 },
 "nbformat": 4,
 "nbformat_minor": 4
}
